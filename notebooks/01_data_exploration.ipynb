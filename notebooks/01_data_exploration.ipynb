{
 "cells": [
  {
   "cell_type": "code",
   "execution_count": 1,
   "metadata": {},
   "outputs": [
    {
     "name": "stderr",
     "output_type": "stream",
     "text": [
      "[nltk_data] Downloading package punkt_tab to\n",
      "[nltk_data]     C:\\Users\\hegde\\AppData\\Roaming\\nltk_data...\n",
      "[nltk_data]   Package punkt_tab is already up-to-date!\n"
     ]
    },
    {
     "data": {
      "text/plain": [
       "True"
      ]
     },
     "execution_count": 1,
     "metadata": {},
     "output_type": "execute_result"
    }
   ],
   "source": [
    "import nltk\n",
    "nltk.download('punkt_tab')"
   ]
  },
  {
   "cell_type": "code",
   "execution_count": 2,
   "id": "94562f0d",
   "metadata": {},
   "outputs": [
    {
     "name": "stdout",
     "output_type": "stream",
     "text": [
      "--- Vocabulary Info ---\n",
      "Vocabulary Size: 5197\n",
      "\n",
      "--- Sample Data ---\n",
      "Image Tensor Shape: torch.Size([3, 224, 224])\n",
      "Caption Tensor: tensor([ 1,  4,  5,  6,  7,  8,  9, 10, 11,  6, 12, 13, 14,  5, 15,  3, 16, 17,\n",
      "         2])\n",
      "Caption Length: 19\n",
      "Caption as words: <START> child in a pink dress is climbing up a set of stairs in an <UNK> way . <END>\n"
     ]
    }
   ],
   "source": [
    "import sys\n",
    "sys.path.append('../src')\n",
    "import torch\n",
    "from torchvision import transforms\n",
    "from dataset import FlickrDataset \n",
    "\n",
    "# Define the transformations for the images\n",
    "# We resize them to 224x224 and convert them to Tensors\n",
    "transform = transforms.Compose([\n",
    "    transforms.Resize((224, 224)),\n",
    "    transforms.ToTensor(),\n",
    "])\n",
    "\n",
    "# Define the root directories for your data\n",
    "# Adjust the paths if you named your folders differently\n",
    "root_dir = \"../data/flickr8k/images\"\n",
    "captions_file = \"../data/flickr8k/captions.txt\"\n",
    "\n",
    "# Initialize the dataset. We set a low frequency threshold for this small dataset.\n",
    "# The `__init__` method will automatically build the vocabulary.\n",
    "dataset = FlickrDataset(\n",
    "    root_dir=root_dir,\n",
    "    captions_file=captions_file,\n",
    "    transform=transform,\n",
    "    freq_threshold=2 # A word must appear at least twice to be included\n",
    ")\n",
    "\n",
    "# Let's get a single sample from the dataset\n",
    "img, caption = dataset[0]\n",
    "\n",
    "# Print information to verify\n",
    "print(\"--- Vocabulary Info ---\")\n",
    "print(f\"Vocabulary Size: {len(dataset.vocab)}\")\n",
    "print(\"\\n--- Sample Data ---\")\n",
    "print(f\"Image Tensor Shape: {img.shape}\")\n",
    "print(f\"Caption Tensor: {caption}\")\n",
    "print(f\"Caption Length: {len(caption)}\")\n",
    "\n",
    "# Convert the numericalized caption back to words to check\n",
    "words = [dataset.vocab.itos[idx] for idx in caption.tolist()]\n",
    "print(f\"Caption as words: {' '.join(words)}\")"
   ]
  }
 ],
 "metadata": {
  "kernelspec": {
   "display_name": "venv",
   "language": "python",
   "name": "python3"
  },
  "language_info": {
   "codemirror_mode": {
    "name": "ipython",
    "version": 3
   },
   "file_extension": ".py",
   "mimetype": "text/x-python",
   "name": "python",
   "nbconvert_exporter": "python",
   "pygments_lexer": "ipython3",
   "version": "3.12.1"
  }
 },
 "nbformat": 4,
 "nbformat_minor": 5
}
